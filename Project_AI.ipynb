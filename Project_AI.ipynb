{
  "nbformat": 4,
  "nbformat_minor": 0,
  "metadata": {
    "colab": {
      "provenance": [],
      "authorship_tag": "ABX9TyPz6ybe6m1KqsPMFFHOWr4O",
      "include_colab_link": true
    },
    "kernelspec": {
      "name": "python3",
      "display_name": "Python 3"
    },
    "language_info": {
      "name": "python"
    },
    "accelerator": "GPU",
    "gpuClass": "standard",
    "widgets": {
      "application/vnd.jupyter.widget-state+json": {
        "20ea3ef02faa4c80901f7dce2a27d1ab": {
          "model_module": "@jupyter-widgets/controls",
          "model_name": "HBoxModel",
          "model_module_version": "1.5.0",
          "state": {
            "_dom_classes": [],
            "_model_module": "@jupyter-widgets/controls",
            "_model_module_version": "1.5.0",
            "_model_name": "HBoxModel",
            "_view_count": null,
            "_view_module": "@jupyter-widgets/controls",
            "_view_module_version": "1.5.0",
            "_view_name": "HBoxView",
            "box_style": "",
            "children": [
              "IPY_MODEL_9b328cc081b4476a91aaae2169abedbc",
              "IPY_MODEL_e169a653e3054d62970cb4e93cd51e48",
              "IPY_MODEL_0b3e08b97e714031bfc5a11bb3a7e206"
            ],
            "layout": "IPY_MODEL_745fab6727f54161b6bc5b4d5f8f1cbd"
          }
        },
        "9b328cc081b4476a91aaae2169abedbc": {
          "model_module": "@jupyter-widgets/controls",
          "model_name": "HTMLModel",
          "model_module_version": "1.5.0",
          "state": {
            "_dom_classes": [],
            "_model_module": "@jupyter-widgets/controls",
            "_model_module_version": "1.5.0",
            "_model_name": "HTMLModel",
            "_view_count": null,
            "_view_module": "@jupyter-widgets/controls",
            "_view_module_version": "1.5.0",
            "_view_name": "HTMLView",
            "description": "",
            "description_tooltip": null,
            "layout": "IPY_MODEL_410652dcce5e4df8b019d82f9eeb0f74",
            "placeholder": "​",
            "style": "IPY_MODEL_888adbbb7dac439bb1557a385561b2d4",
            "value": "100%"
          }
        },
        "e169a653e3054d62970cb4e93cd51e48": {
          "model_module": "@jupyter-widgets/controls",
          "model_name": "FloatProgressModel",
          "model_module_version": "1.5.0",
          "state": {
            "_dom_classes": [],
            "_model_module": "@jupyter-widgets/controls",
            "_model_module_version": "1.5.0",
            "_model_name": "FloatProgressModel",
            "_view_count": null,
            "_view_module": "@jupyter-widgets/controls",
            "_view_module_version": "1.5.0",
            "_view_name": "ProgressView",
            "bar_style": "success",
            "description": "",
            "description_tooltip": null,
            "layout": "IPY_MODEL_5e832530e3db4f1992d575d41ff34ffe",
            "max": 155,
            "min": 0,
            "orientation": "horizontal",
            "style": "IPY_MODEL_3c7506560f084ca3a1183949b4f04e28",
            "value": 155
          }
        },
        "0b3e08b97e714031bfc5a11bb3a7e206": {
          "model_module": "@jupyter-widgets/controls",
          "model_name": "HTMLModel",
          "model_module_version": "1.5.0",
          "state": {
            "_dom_classes": [],
            "_model_module": "@jupyter-widgets/controls",
            "_model_module_version": "1.5.0",
            "_model_name": "HTMLModel",
            "_view_count": null,
            "_view_module": "@jupyter-widgets/controls",
            "_view_module_version": "1.5.0",
            "_view_name": "HTMLView",
            "description": "",
            "description_tooltip": null,
            "layout": "IPY_MODEL_6c1d21ca976245bca1460984e523eed8",
            "placeholder": "​",
            "style": "IPY_MODEL_6cf69d8734da4fa4a6afcf1b8c99838b",
            "value": " 155/155 [00:00&lt;00:00, 369.73it/s]"
          }
        },
        "745fab6727f54161b6bc5b4d5f8f1cbd": {
          "model_module": "@jupyter-widgets/base",
          "model_name": "LayoutModel",
          "model_module_version": "1.2.0",
          "state": {
            "_model_module": "@jupyter-widgets/base",
            "_model_module_version": "1.2.0",
            "_model_name": "LayoutModel",
            "_view_count": null,
            "_view_module": "@jupyter-widgets/base",
            "_view_module_version": "1.2.0",
            "_view_name": "LayoutView",
            "align_content": null,
            "align_items": null,
            "align_self": null,
            "border": null,
            "bottom": null,
            "display": null,
            "flex": null,
            "flex_flow": null,
            "grid_area": null,
            "grid_auto_columns": null,
            "grid_auto_flow": null,
            "grid_auto_rows": null,
            "grid_column": null,
            "grid_gap": null,
            "grid_row": null,
            "grid_template_areas": null,
            "grid_template_columns": null,
            "grid_template_rows": null,
            "height": null,
            "justify_content": null,
            "justify_items": null,
            "left": null,
            "margin": null,
            "max_height": null,
            "max_width": null,
            "min_height": null,
            "min_width": null,
            "object_fit": null,
            "object_position": null,
            "order": null,
            "overflow": null,
            "overflow_x": null,
            "overflow_y": null,
            "padding": null,
            "right": null,
            "top": null,
            "visibility": null,
            "width": null
          }
        },
        "410652dcce5e4df8b019d82f9eeb0f74": {
          "model_module": "@jupyter-widgets/base",
          "model_name": "LayoutModel",
          "model_module_version": "1.2.0",
          "state": {
            "_model_module": "@jupyter-widgets/base",
            "_model_module_version": "1.2.0",
            "_model_name": "LayoutModel",
            "_view_count": null,
            "_view_module": "@jupyter-widgets/base",
            "_view_module_version": "1.2.0",
            "_view_name": "LayoutView",
            "align_content": null,
            "align_items": null,
            "align_self": null,
            "border": null,
            "bottom": null,
            "display": null,
            "flex": null,
            "flex_flow": null,
            "grid_area": null,
            "grid_auto_columns": null,
            "grid_auto_flow": null,
            "grid_auto_rows": null,
            "grid_column": null,
            "grid_gap": null,
            "grid_row": null,
            "grid_template_areas": null,
            "grid_template_columns": null,
            "grid_template_rows": null,
            "height": null,
            "justify_content": null,
            "justify_items": null,
            "left": null,
            "margin": null,
            "max_height": null,
            "max_width": null,
            "min_height": null,
            "min_width": null,
            "object_fit": null,
            "object_position": null,
            "order": null,
            "overflow": null,
            "overflow_x": null,
            "overflow_y": null,
            "padding": null,
            "right": null,
            "top": null,
            "visibility": null,
            "width": null
          }
        },
        "888adbbb7dac439bb1557a385561b2d4": {
          "model_module": "@jupyter-widgets/controls",
          "model_name": "DescriptionStyleModel",
          "model_module_version": "1.5.0",
          "state": {
            "_model_module": "@jupyter-widgets/controls",
            "_model_module_version": "1.5.0",
            "_model_name": "DescriptionStyleModel",
            "_view_count": null,
            "_view_module": "@jupyter-widgets/base",
            "_view_module_version": "1.2.0",
            "_view_name": "StyleView",
            "description_width": ""
          }
        },
        "5e832530e3db4f1992d575d41ff34ffe": {
          "model_module": "@jupyter-widgets/base",
          "model_name": "LayoutModel",
          "model_module_version": "1.2.0",
          "state": {
            "_model_module": "@jupyter-widgets/base",
            "_model_module_version": "1.2.0",
            "_model_name": "LayoutModel",
            "_view_count": null,
            "_view_module": "@jupyter-widgets/base",
            "_view_module_version": "1.2.0",
            "_view_name": "LayoutView",
            "align_content": null,
            "align_items": null,
            "align_self": null,
            "border": null,
            "bottom": null,
            "display": null,
            "flex": null,
            "flex_flow": null,
            "grid_area": null,
            "grid_auto_columns": null,
            "grid_auto_flow": null,
            "grid_auto_rows": null,
            "grid_column": null,
            "grid_gap": null,
            "grid_row": null,
            "grid_template_areas": null,
            "grid_template_columns": null,
            "grid_template_rows": null,
            "height": null,
            "justify_content": null,
            "justify_items": null,
            "left": null,
            "margin": null,
            "max_height": null,
            "max_width": null,
            "min_height": null,
            "min_width": null,
            "object_fit": null,
            "object_position": null,
            "order": null,
            "overflow": null,
            "overflow_x": null,
            "overflow_y": null,
            "padding": null,
            "right": null,
            "top": null,
            "visibility": null,
            "width": null
          }
        },
        "3c7506560f084ca3a1183949b4f04e28": {
          "model_module": "@jupyter-widgets/controls",
          "model_name": "ProgressStyleModel",
          "model_module_version": "1.5.0",
          "state": {
            "_model_module": "@jupyter-widgets/controls",
            "_model_module_version": "1.5.0",
            "_model_name": "ProgressStyleModel",
            "_view_count": null,
            "_view_module": "@jupyter-widgets/base",
            "_view_module_version": "1.2.0",
            "_view_name": "StyleView",
            "bar_color": null,
            "description_width": ""
          }
        },
        "6c1d21ca976245bca1460984e523eed8": {
          "model_module": "@jupyter-widgets/base",
          "model_name": "LayoutModel",
          "model_module_version": "1.2.0",
          "state": {
            "_model_module": "@jupyter-widgets/base",
            "_model_module_version": "1.2.0",
            "_model_name": "LayoutModel",
            "_view_count": null,
            "_view_module": "@jupyter-widgets/base",
            "_view_module_version": "1.2.0",
            "_view_name": "LayoutView",
            "align_content": null,
            "align_items": null,
            "align_self": null,
            "border": null,
            "bottom": null,
            "display": null,
            "flex": null,
            "flex_flow": null,
            "grid_area": null,
            "grid_auto_columns": null,
            "grid_auto_flow": null,
            "grid_auto_rows": null,
            "grid_column": null,
            "grid_gap": null,
            "grid_row": null,
            "grid_template_areas": null,
            "grid_template_columns": null,
            "grid_template_rows": null,
            "height": null,
            "justify_content": null,
            "justify_items": null,
            "left": null,
            "margin": null,
            "max_height": null,
            "max_width": null,
            "min_height": null,
            "min_width": null,
            "object_fit": null,
            "object_position": null,
            "order": null,
            "overflow": null,
            "overflow_x": null,
            "overflow_y": null,
            "padding": null,
            "right": null,
            "top": null,
            "visibility": null,
            "width": null
          }
        },
        "6cf69d8734da4fa4a6afcf1b8c99838b": {
          "model_module": "@jupyter-widgets/controls",
          "model_name": "DescriptionStyleModel",
          "model_module_version": "1.5.0",
          "state": {
            "_model_module": "@jupyter-widgets/controls",
            "_model_module_version": "1.5.0",
            "_model_name": "DescriptionStyleModel",
            "_view_count": null,
            "_view_module": "@jupyter-widgets/base",
            "_view_module_version": "1.2.0",
            "_view_name": "StyleView",
            "description_width": ""
          }
        },
        "cf1e5fdd022a4f9faf11b80e35fece06": {
          "model_module": "@jupyter-widgets/controls",
          "model_name": "HBoxModel",
          "model_module_version": "1.5.0",
          "state": {
            "_dom_classes": [],
            "_model_module": "@jupyter-widgets/controls",
            "_model_module_version": "1.5.0",
            "_model_name": "HBoxModel",
            "_view_count": null,
            "_view_module": "@jupyter-widgets/controls",
            "_view_module_version": "1.5.0",
            "_view_name": "HBoxView",
            "box_style": "",
            "children": [
              "IPY_MODEL_d06c58d827a348968be57db71b483183",
              "IPY_MODEL_13a878508ba94d00a957a9bd97eec237",
              "IPY_MODEL_1506117f74724e20871225a7e0c364c6"
            ],
            "layout": "IPY_MODEL_33f340b7034b4acb909b92a3c91911de"
          }
        },
        "d06c58d827a348968be57db71b483183": {
          "model_module": "@jupyter-widgets/controls",
          "model_name": "HTMLModel",
          "model_module_version": "1.5.0",
          "state": {
            "_dom_classes": [],
            "_model_module": "@jupyter-widgets/controls",
            "_model_module_version": "1.5.0",
            "_model_name": "HTMLModel",
            "_view_count": null,
            "_view_module": "@jupyter-widgets/controls",
            "_view_module_version": "1.5.0",
            "_view_name": "HTMLView",
            "description": "",
            "description_tooltip": null,
            "layout": "IPY_MODEL_8227ff332f96492da6f13b9b4df13dc4",
            "placeholder": "​",
            "style": "IPY_MODEL_3414b45498bf424baad26a77648d323f",
            "value": "100%"
          }
        },
        "13a878508ba94d00a957a9bd97eec237": {
          "model_module": "@jupyter-widgets/controls",
          "model_name": "FloatProgressModel",
          "model_module_version": "1.5.0",
          "state": {
            "_dom_classes": [],
            "_model_module": "@jupyter-widgets/controls",
            "_model_module_version": "1.5.0",
            "_model_name": "FloatProgressModel",
            "_view_count": null,
            "_view_module": "@jupyter-widgets/controls",
            "_view_module_version": "1.5.0",
            "_view_name": "ProgressView",
            "bar_style": "success",
            "description": "",
            "description_tooltip": null,
            "layout": "IPY_MODEL_441b5e1748f34b15872d5f58ff7d9799",
            "max": 98,
            "min": 0,
            "orientation": "horizontal",
            "style": "IPY_MODEL_40d880651d3d4897b2dca4bcf26f0dc7",
            "value": 98
          }
        },
        "1506117f74724e20871225a7e0c364c6": {
          "model_module": "@jupyter-widgets/controls",
          "model_name": "HTMLModel",
          "model_module_version": "1.5.0",
          "state": {
            "_dom_classes": [],
            "_model_module": "@jupyter-widgets/controls",
            "_model_module_version": "1.5.0",
            "_model_name": "HTMLModel",
            "_view_count": null,
            "_view_module": "@jupyter-widgets/controls",
            "_view_module_version": "1.5.0",
            "_view_name": "HTMLView",
            "description": "",
            "description_tooltip": null,
            "layout": "IPY_MODEL_83fe45948a17490ab4a109626f560711",
            "placeholder": "​",
            "style": "IPY_MODEL_82280d241319412c988ed405e35ab7dd",
            "value": " 98/98 [00:00&lt;00:00, 442.83it/s]"
          }
        },
        "33f340b7034b4acb909b92a3c91911de": {
          "model_module": "@jupyter-widgets/base",
          "model_name": "LayoutModel",
          "model_module_version": "1.2.0",
          "state": {
            "_model_module": "@jupyter-widgets/base",
            "_model_module_version": "1.2.0",
            "_model_name": "LayoutModel",
            "_view_count": null,
            "_view_module": "@jupyter-widgets/base",
            "_view_module_version": "1.2.0",
            "_view_name": "LayoutView",
            "align_content": null,
            "align_items": null,
            "align_self": null,
            "border": null,
            "bottom": null,
            "display": null,
            "flex": null,
            "flex_flow": null,
            "grid_area": null,
            "grid_auto_columns": null,
            "grid_auto_flow": null,
            "grid_auto_rows": null,
            "grid_column": null,
            "grid_gap": null,
            "grid_row": null,
            "grid_template_areas": null,
            "grid_template_columns": null,
            "grid_template_rows": null,
            "height": null,
            "justify_content": null,
            "justify_items": null,
            "left": null,
            "margin": null,
            "max_height": null,
            "max_width": null,
            "min_height": null,
            "min_width": null,
            "object_fit": null,
            "object_position": null,
            "order": null,
            "overflow": null,
            "overflow_x": null,
            "overflow_y": null,
            "padding": null,
            "right": null,
            "top": null,
            "visibility": null,
            "width": null
          }
        },
        "8227ff332f96492da6f13b9b4df13dc4": {
          "model_module": "@jupyter-widgets/base",
          "model_name": "LayoutModel",
          "model_module_version": "1.2.0",
          "state": {
            "_model_module": "@jupyter-widgets/base",
            "_model_module_version": "1.2.0",
            "_model_name": "LayoutModel",
            "_view_count": null,
            "_view_module": "@jupyter-widgets/base",
            "_view_module_version": "1.2.0",
            "_view_name": "LayoutView",
            "align_content": null,
            "align_items": null,
            "align_self": null,
            "border": null,
            "bottom": null,
            "display": null,
            "flex": null,
            "flex_flow": null,
            "grid_area": null,
            "grid_auto_columns": null,
            "grid_auto_flow": null,
            "grid_auto_rows": null,
            "grid_column": null,
            "grid_gap": null,
            "grid_row": null,
            "grid_template_areas": null,
            "grid_template_columns": null,
            "grid_template_rows": null,
            "height": null,
            "justify_content": null,
            "justify_items": null,
            "left": null,
            "margin": null,
            "max_height": null,
            "max_width": null,
            "min_height": null,
            "min_width": null,
            "object_fit": null,
            "object_position": null,
            "order": null,
            "overflow": null,
            "overflow_x": null,
            "overflow_y": null,
            "padding": null,
            "right": null,
            "top": null,
            "visibility": null,
            "width": null
          }
        },
        "3414b45498bf424baad26a77648d323f": {
          "model_module": "@jupyter-widgets/controls",
          "model_name": "DescriptionStyleModel",
          "model_module_version": "1.5.0",
          "state": {
            "_model_module": "@jupyter-widgets/controls",
            "_model_module_version": "1.5.0",
            "_model_name": "DescriptionStyleModel",
            "_view_count": null,
            "_view_module": "@jupyter-widgets/base",
            "_view_module_version": "1.2.0",
            "_view_name": "StyleView",
            "description_width": ""
          }
        },
        "441b5e1748f34b15872d5f58ff7d9799": {
          "model_module": "@jupyter-widgets/base",
          "model_name": "LayoutModel",
          "model_module_version": "1.2.0",
          "state": {
            "_model_module": "@jupyter-widgets/base",
            "_model_module_version": "1.2.0",
            "_model_name": "LayoutModel",
            "_view_count": null,
            "_view_module": "@jupyter-widgets/base",
            "_view_module_version": "1.2.0",
            "_view_name": "LayoutView",
            "align_content": null,
            "align_items": null,
            "align_self": null,
            "border": null,
            "bottom": null,
            "display": null,
            "flex": null,
            "flex_flow": null,
            "grid_area": null,
            "grid_auto_columns": null,
            "grid_auto_flow": null,
            "grid_auto_rows": null,
            "grid_column": null,
            "grid_gap": null,
            "grid_row": null,
            "grid_template_areas": null,
            "grid_template_columns": null,
            "grid_template_rows": null,
            "height": null,
            "justify_content": null,
            "justify_items": null,
            "left": null,
            "margin": null,
            "max_height": null,
            "max_width": null,
            "min_height": null,
            "min_width": null,
            "object_fit": null,
            "object_position": null,
            "order": null,
            "overflow": null,
            "overflow_x": null,
            "overflow_y": null,
            "padding": null,
            "right": null,
            "top": null,
            "visibility": null,
            "width": null
          }
        },
        "40d880651d3d4897b2dca4bcf26f0dc7": {
          "model_module": "@jupyter-widgets/controls",
          "model_name": "ProgressStyleModel",
          "model_module_version": "1.5.0",
          "state": {
            "_model_module": "@jupyter-widgets/controls",
            "_model_module_version": "1.5.0",
            "_model_name": "ProgressStyleModel",
            "_view_count": null,
            "_view_module": "@jupyter-widgets/base",
            "_view_module_version": "1.2.0",
            "_view_name": "StyleView",
            "bar_color": null,
            "description_width": ""
          }
        },
        "83fe45948a17490ab4a109626f560711": {
          "model_module": "@jupyter-widgets/base",
          "model_name": "LayoutModel",
          "model_module_version": "1.2.0",
          "state": {
            "_model_module": "@jupyter-widgets/base",
            "_model_module_version": "1.2.0",
            "_model_name": "LayoutModel",
            "_view_count": null,
            "_view_module": "@jupyter-widgets/base",
            "_view_module_version": "1.2.0",
            "_view_name": "LayoutView",
            "align_content": null,
            "align_items": null,
            "align_self": null,
            "border": null,
            "bottom": null,
            "display": null,
            "flex": null,
            "flex_flow": null,
            "grid_area": null,
            "grid_auto_columns": null,
            "grid_auto_flow": null,
            "grid_auto_rows": null,
            "grid_column": null,
            "grid_gap": null,
            "grid_row": null,
            "grid_template_areas": null,
            "grid_template_columns": null,
            "grid_template_rows": null,
            "height": null,
            "justify_content": null,
            "justify_items": null,
            "left": null,
            "margin": null,
            "max_height": null,
            "max_width": null,
            "min_height": null,
            "min_width": null,
            "object_fit": null,
            "object_position": null,
            "order": null,
            "overflow": null,
            "overflow_x": null,
            "overflow_y": null,
            "padding": null,
            "right": null,
            "top": null,
            "visibility": null,
            "width": null
          }
        },
        "82280d241319412c988ed405e35ab7dd": {
          "model_module": "@jupyter-widgets/controls",
          "model_name": "DescriptionStyleModel",
          "model_module_version": "1.5.0",
          "state": {
            "_model_module": "@jupyter-widgets/controls",
            "_model_module_version": "1.5.0",
            "_model_name": "DescriptionStyleModel",
            "_view_count": null,
            "_view_module": "@jupyter-widgets/base",
            "_view_module_version": "1.2.0",
            "_view_name": "StyleView",
            "description_width": ""
          }
        }
      }
    }
  },
  "cells": [
    {
      "cell_type": "markdown",
      "metadata": {
        "id": "view-in-github",
        "colab_type": "text"
      },
      "source": [
        "<a href=\"https://colab.research.google.com/github/shomoitamitin/shomoitamitin/blob/main/Project_AI.ipynb\" target=\"_parent\"><img src=\"https://colab.research.google.com/assets/colab-badge.svg\" alt=\"Open In Colab\"/></a>"
      ]
    },
    {
      "cell_type": "code",
      "source": [
        "import tensorflow as tf\n",
        "from zipfile import ZipFile\n",
        "import os,glob\n",
        "import cv2\n",
        "from tqdm.notebook import tqdm_notebook as tqdm\n",
        "import numpy as np\n",
        "from sklearn import preprocessing\n",
        "from sklearn.model_selection import train_test_split\n",
        "from keras.models import Sequential\n",
        "from keras.layers import Convolution2D, Dropout, Dense,MaxPooling2D\n",
        "from keras.layers import BatchNormalization\n",
        "from keras.layers import MaxPooling2D\n",
        "from keras.layers import Flatten\n",
        "from tensorflow.keras import models,layers\n",
        "import matplotlib.pyplot as plt"
      ],
      "metadata": {
        "id": "ad2Hc1FXpDnL"
      },
      "execution_count": null,
      "outputs": []
    },
    {
      "cell_type": "code",
      "source": [
        "!pip install kaggle"
      ],
      "metadata": {
        "colab": {
          "base_uri": "https://localhost:8080/"
        },
        "id": "cMSkec3npoyz",
        "outputId": "4f685881-8283-4395-a48d-163193567551"
      },
      "execution_count": null,
      "outputs": [
        {
          "output_type": "stream",
          "name": "stdout",
          "text": [
            "Looking in indexes: https://pypi.org/simple, https://us-python.pkg.dev/colab-wheels/public/simple/\n",
            "Requirement already satisfied: kaggle in /usr/local/lib/python3.9/dist-packages (1.5.13)\n",
            "Requirement already satisfied: tqdm in /usr/local/lib/python3.9/dist-packages (from kaggle) (4.65.0)\n",
            "Requirement already satisfied: certifi in /usr/local/lib/python3.9/dist-packages (from kaggle) (2022.12.7)\n",
            "Requirement already satisfied: urllib3 in /usr/local/lib/python3.9/dist-packages (from kaggle) (1.26.15)\n",
            "Requirement already satisfied: python-slugify in /usr/local/lib/python3.9/dist-packages (from kaggle) (8.0.1)\n",
            "Requirement already satisfied: requests in /usr/local/lib/python3.9/dist-packages (from kaggle) (2.27.1)\n",
            "Requirement already satisfied: six>=1.10 in /usr/local/lib/python3.9/dist-packages (from kaggle) (1.16.0)\n",
            "Requirement already satisfied: python-dateutil in /usr/local/lib/python3.9/dist-packages (from kaggle) (2.8.2)\n",
            "Requirement already satisfied: text-unidecode>=1.3 in /usr/local/lib/python3.9/dist-packages (from python-slugify->kaggle) (1.3)\n",
            "Requirement already satisfied: charset-normalizer~=2.0.0 in /usr/local/lib/python3.9/dist-packages (from requests->kaggle) (2.0.12)\n",
            "Requirement already satisfied: idna<4,>=2.5 in /usr/local/lib/python3.9/dist-packages (from requests->kaggle) (3.4)\n"
          ]
        }
      ]
    },
    {
      "cell_type": "code",
      "source": [
        "from google.colab import files\n",
        "files.upload()\n",
        "!mkdir -p ~/.kaggle\n",
        "!cp kaggle.json ~/.kaggle/\n",
        "!chmod 600 ~/.kaggle/kaggle.json \n",
        "!kaggle datasets download -d navoneel/brain-mri-images-for-brain-tumor-detection"
      ],
      "metadata": {
        "colab": {
          "base_uri": "https://localhost:8080/",
          "height": 125
        },
        "id": "Lz-804a0prx3",
        "outputId": "38cabd4d-b3ef-4610-eb20-a6a57380e1bd"
      },
      "execution_count": null,
      "outputs": [
        {
          "output_type": "display_data",
          "data": {
            "text/plain": [
              "<IPython.core.display.HTML object>"
            ],
            "text/html": [
              "\n",
              "     <input type=\"file\" id=\"files-78493d31-8384-49c2-b8b7-28861b1faed6\" name=\"files[]\" multiple disabled\n",
              "        style=\"border:none\" />\n",
              "     <output id=\"result-78493d31-8384-49c2-b8b7-28861b1faed6\">\n",
              "      Upload widget is only available when the cell has been executed in the\n",
              "      current browser session. Please rerun this cell to enable.\n",
              "      </output>\n",
              "      <script>// Copyright 2017 Google LLC\n",
              "//\n",
              "// Licensed under the Apache License, Version 2.0 (the \"License\");\n",
              "// you may not use this file except in compliance with the License.\n",
              "// You may obtain a copy of the License at\n",
              "//\n",
              "//      http://www.apache.org/licenses/LICENSE-2.0\n",
              "//\n",
              "// Unless required by applicable law or agreed to in writing, software\n",
              "// distributed under the License is distributed on an \"AS IS\" BASIS,\n",
              "// WITHOUT WARRANTIES OR CONDITIONS OF ANY KIND, either express or implied.\n",
              "// See the License for the specific language governing permissions and\n",
              "// limitations under the License.\n",
              "\n",
              "/**\n",
              " * @fileoverview Helpers for google.colab Python module.\n",
              " */\n",
              "(function(scope) {\n",
              "function span(text, styleAttributes = {}) {\n",
              "  const element = document.createElement('span');\n",
              "  element.textContent = text;\n",
              "  for (const key of Object.keys(styleAttributes)) {\n",
              "    element.style[key] = styleAttributes[key];\n",
              "  }\n",
              "  return element;\n",
              "}\n",
              "\n",
              "// Max number of bytes which will be uploaded at a time.\n",
              "const MAX_PAYLOAD_SIZE = 100 * 1024;\n",
              "\n",
              "function _uploadFiles(inputId, outputId) {\n",
              "  const steps = uploadFilesStep(inputId, outputId);\n",
              "  const outputElement = document.getElementById(outputId);\n",
              "  // Cache steps on the outputElement to make it available for the next call\n",
              "  // to uploadFilesContinue from Python.\n",
              "  outputElement.steps = steps;\n",
              "\n",
              "  return _uploadFilesContinue(outputId);\n",
              "}\n",
              "\n",
              "// This is roughly an async generator (not supported in the browser yet),\n",
              "// where there are multiple asynchronous steps and the Python side is going\n",
              "// to poll for completion of each step.\n",
              "// This uses a Promise to block the python side on completion of each step,\n",
              "// then passes the result of the previous step as the input to the next step.\n",
              "function _uploadFilesContinue(outputId) {\n",
              "  const outputElement = document.getElementById(outputId);\n",
              "  const steps = outputElement.steps;\n",
              "\n",
              "  const next = steps.next(outputElement.lastPromiseValue);\n",
              "  return Promise.resolve(next.value.promise).then((value) => {\n",
              "    // Cache the last promise value to make it available to the next\n",
              "    // step of the generator.\n",
              "    outputElement.lastPromiseValue = value;\n",
              "    return next.value.response;\n",
              "  });\n",
              "}\n",
              "\n",
              "/**\n",
              " * Generator function which is called between each async step of the upload\n",
              " * process.\n",
              " * @param {string} inputId Element ID of the input file picker element.\n",
              " * @param {string} outputId Element ID of the output display.\n",
              " * @return {!Iterable<!Object>} Iterable of next steps.\n",
              " */\n",
              "function* uploadFilesStep(inputId, outputId) {\n",
              "  const inputElement = document.getElementById(inputId);\n",
              "  inputElement.disabled = false;\n",
              "\n",
              "  const outputElement = document.getElementById(outputId);\n",
              "  outputElement.innerHTML = '';\n",
              "\n",
              "  const pickedPromise = new Promise((resolve) => {\n",
              "    inputElement.addEventListener('change', (e) => {\n",
              "      resolve(e.target.files);\n",
              "    });\n",
              "  });\n",
              "\n",
              "  const cancel = document.createElement('button');\n",
              "  inputElement.parentElement.appendChild(cancel);\n",
              "  cancel.textContent = 'Cancel upload';\n",
              "  const cancelPromise = new Promise((resolve) => {\n",
              "    cancel.onclick = () => {\n",
              "      resolve(null);\n",
              "    };\n",
              "  });\n",
              "\n",
              "  // Wait for the user to pick the files.\n",
              "  const files = yield {\n",
              "    promise: Promise.race([pickedPromise, cancelPromise]),\n",
              "    response: {\n",
              "      action: 'starting',\n",
              "    }\n",
              "  };\n",
              "\n",
              "  cancel.remove();\n",
              "\n",
              "  // Disable the input element since further picks are not allowed.\n",
              "  inputElement.disabled = true;\n",
              "\n",
              "  if (!files) {\n",
              "    return {\n",
              "      response: {\n",
              "        action: 'complete',\n",
              "      }\n",
              "    };\n",
              "  }\n",
              "\n",
              "  for (const file of files) {\n",
              "    const li = document.createElement('li');\n",
              "    li.append(span(file.name, {fontWeight: 'bold'}));\n",
              "    li.append(span(\n",
              "        `(${file.type || 'n/a'}) - ${file.size} bytes, ` +\n",
              "        `last modified: ${\n",
              "            file.lastModifiedDate ? file.lastModifiedDate.toLocaleDateString() :\n",
              "                                    'n/a'} - `));\n",
              "    const percent = span('0% done');\n",
              "    li.appendChild(percent);\n",
              "\n",
              "    outputElement.appendChild(li);\n",
              "\n",
              "    const fileDataPromise = new Promise((resolve) => {\n",
              "      const reader = new FileReader();\n",
              "      reader.onload = (e) => {\n",
              "        resolve(e.target.result);\n",
              "      };\n",
              "      reader.readAsArrayBuffer(file);\n",
              "    });\n",
              "    // Wait for the data to be ready.\n",
              "    let fileData = yield {\n",
              "      promise: fileDataPromise,\n",
              "      response: {\n",
              "        action: 'continue',\n",
              "      }\n",
              "    };\n",
              "\n",
              "    // Use a chunked sending to avoid message size limits. See b/62115660.\n",
              "    let position = 0;\n",
              "    do {\n",
              "      const length = Math.min(fileData.byteLength - position, MAX_PAYLOAD_SIZE);\n",
              "      const chunk = new Uint8Array(fileData, position, length);\n",
              "      position += length;\n",
              "\n",
              "      const base64 = btoa(String.fromCharCode.apply(null, chunk));\n",
              "      yield {\n",
              "        response: {\n",
              "          action: 'append',\n",
              "          file: file.name,\n",
              "          data: base64,\n",
              "        },\n",
              "      };\n",
              "\n",
              "      let percentDone = fileData.byteLength === 0 ?\n",
              "          100 :\n",
              "          Math.round((position / fileData.byteLength) * 100);\n",
              "      percent.textContent = `${percentDone}% done`;\n",
              "\n",
              "    } while (position < fileData.byteLength);\n",
              "  }\n",
              "\n",
              "  // All done.\n",
              "  yield {\n",
              "    response: {\n",
              "      action: 'complete',\n",
              "    }\n",
              "  };\n",
              "}\n",
              "\n",
              "scope.google = scope.google || {};\n",
              "scope.google.colab = scope.google.colab || {};\n",
              "scope.google.colab._files = {\n",
              "  _uploadFiles,\n",
              "  _uploadFilesContinue,\n",
              "};\n",
              "})(self);\n",
              "</script> "
            ]
          },
          "metadata": {}
        },
        {
          "output_type": "stream",
          "name": "stdout",
          "text": [
            "Saving kaggle.json to kaggle.json\n",
            "Downloading brain-mri-images-for-brain-tumor-detection.zip to /content\n",
            " 33% 5.00M/15.1M [00:00<00:00, 25.8MB/s]\n",
            "100% 15.1M/15.1M [00:00<00:00, 59.9MB/s]\n"
          ]
        }
      ]
    },
    {
      "cell_type": "code",
      "source": [
        "from zipfile import ZipFile\n",
        "file_name = \"/content/brain-mri-images-for-brain-tumor-detection.zip\"\n",
        "with ZipFile(file_name,'r') as zip:\n",
        "  zip.extractall()\n",
        "  print('Done')"
      ],
      "metadata": {
        "colab": {
          "base_uri": "https://localhost:8080/"
        },
        "id": "2v3kXxwusp8F",
        "outputId": "ccc0370d-54f7-46b5-837e-dc638861f767"
      },
      "execution_count": null,
      "outputs": [
        {
          "output_type": "stream",
          "name": "stdout",
          "text": [
            "Done\n"
          ]
        }
      ]
    },
    {
      "cell_type": "code",
      "source": [
        "os.chdir('/content/yes')\n",
        "X = []\n",
        "y = []\n",
        "for i in tqdm(os.listdir()):\n",
        "      img = cv2.imread(i)   \n",
        "      img = cv2.resize(img,(28,28))\n",
        "      X.append(img)\n",
        "      y.append((i[0:1]))\n",
        "os.chdir('/content/no')\n",
        "for i in tqdm(os.listdir()):\n",
        "      img = cv2.imread(i)   \n",
        "      img = cv2.resize(img,(28,28))\n",
        "      X.append(img)\n",
        "for i in range(1,99):\n",
        "    y.append('N')"
      ],
      "metadata": {
        "colab": {
          "base_uri": "https://localhost:8080/",
          "height": 81,
          "referenced_widgets": [
            "20ea3ef02faa4c80901f7dce2a27d1ab",
            "9b328cc081b4476a91aaae2169abedbc",
            "e169a653e3054d62970cb4e93cd51e48",
            "0b3e08b97e714031bfc5a11bb3a7e206",
            "745fab6727f54161b6bc5b4d5f8f1cbd",
            "410652dcce5e4df8b019d82f9eeb0f74",
            "888adbbb7dac439bb1557a385561b2d4",
            "5e832530e3db4f1992d575d41ff34ffe",
            "3c7506560f084ca3a1183949b4f04e28",
            "6c1d21ca976245bca1460984e523eed8",
            "6cf69d8734da4fa4a6afcf1b8c99838b",
            "cf1e5fdd022a4f9faf11b80e35fece06",
            "d06c58d827a348968be57db71b483183",
            "13a878508ba94d00a957a9bd97eec237",
            "1506117f74724e20871225a7e0c364c6",
            "33f340b7034b4acb909b92a3c91911de",
            "8227ff332f96492da6f13b9b4df13dc4",
            "3414b45498bf424baad26a77648d323f",
            "441b5e1748f34b15872d5f58ff7d9799",
            "40d880651d3d4897b2dca4bcf26f0dc7",
            "83fe45948a17490ab4a109626f560711",
            "82280d241319412c988ed405e35ab7dd"
          ]
        },
        "id": "e7BnfdMTs1FB",
        "outputId": "26f730ec-14de-49df-f317-3a3c10602918"
      },
      "execution_count": null,
      "outputs": [
        {
          "output_type": "display_data",
          "data": {
            "text/plain": [
              "  0%|          | 0/155 [00:00<?, ?it/s]"
            ],
            "application/vnd.jupyter.widget-view+json": {
              "version_major": 2,
              "version_minor": 0,
              "model_id": "20ea3ef02faa4c80901f7dce2a27d1ab"
            }
          },
          "metadata": {}
        },
        {
          "output_type": "display_data",
          "data": {
            "text/plain": [
              "  0%|          | 0/98 [00:00<?, ?it/s]"
            ],
            "application/vnd.jupyter.widget-view+json": {
              "version_major": 2,
              "version_minor": 0,
              "model_id": "cf1e5fdd022a4f9faf11b80e35fece06"
            }
          },
          "metadata": {}
        }
      ]
    },
    {
      "cell_type": "code",
      "source": [
        "%matplotlib inline\n",
        "import matplotlib.pyplot as plt\n",
        "plt.figure(figsize=(10, 10))\n",
        "for i in range(4):\n",
        "    plt.subplot(1, 4, i+1)\n",
        "    plt.imshow(X[i], cmap=\"gray\")\n",
        "    plt.axis('off')\n",
        "plt.show()"
      ],
      "metadata": {
        "colab": {
          "base_uri": "https://localhost:8080/",
          "height": 152
        },
        "id": "WAXy-ND8s-Od",
        "outputId": "af8719c9-d3ff-43a3-a39b-6b00b5691225"
      },
      "execution_count": null,
      "outputs": [
        {
          "output_type": "display_data",
          "data": {
            "text/plain": [
              "<Figure size 720x720 with 4 Axes>"
            ],
            "image/png": "[encoded data removed]"
          },
          "metadata": {
            "needs_background": "light"
          }
        }
      ]
    },
    {
      "cell_type": "code",
      "source": [
        "X_train, X_test, y_train, y_test = train_test_split(X, y, test_size=0.33, random_state=42)\n",
        "print (\"Shape of an image in X_train: \", X_train[0].shape)\n",
        "print (\"Shape of an image in X_test: \", X_test[0].shape)"
      ],
      "metadata": {
        "colab": {
          "base_uri": "https://localhost:8080/"
        },
        "id": "fR21_vlUtGiF",
        "outputId": "77c4e023-0cde-4afd-b1dc-d3663af389d0"
      },
      "execution_count": null,
      "outputs": [
        {
          "output_type": "stream",
          "name": "stdout",
          "text": [
            "Shape of an image in X_train:  (28, 28, 3)\n",
            "Shape of an image in X_test:  (28, 28, 3)\n"
          ]
        }
      ]
    },
    {
      "cell_type": "code",
      "source": [
        "le = preprocessing.LabelEncoder()\n",
        "y_train = le.fit_transform(y_train)\n",
        "y_test = le.fit_transform(y_test)\n",
        "y_train = tf.keras.utils.to_categorical(y_train, num_classes=2)\n",
        "y_test = tf.keras.utils.to_categorical(y_test, num_classes=2)\n",
        "y_train = np.array(y_train)\n",
        "X_train = np.array(X_train)\n",
        "y_test = np.array(y_test)\n",
        "X_test = np.array(X_test)"
      ],
      "metadata": {
        "id": "jt4yQZEUtOoh"
      },
      "execution_count": null,
      "outputs": []
    },
    {
      "cell_type": "code",
      "source": [
        "print(\"X_train Shape: \", X_train.shape) \n",
        "print(\"X_test Shape: \", X_test.shape) \n",
        "print(\"y_train Shape: \", y_train.shape) \n",
        "print(\"y_test Shape: \", y_test.shape)"
      ],
      "metadata": {
        "colab": {
          "base_uri": "https://localhost:8080/"
        },
        "id": "bIS58Q0LtUBv",
        "outputId": "c7268ffd-e006-48ca-d9e6-ab2517bf91d4"
      },
      "execution_count": null,
      "outputs": [
        {
          "output_type": "stream",
          "name": "stdout",
          "text": [
            "X_train Shape:  (169, 28, 28, 3)\n",
            "X_test Shape:  (84, 28, 28, 3)\n",
            "y_train Shape:  (169, 2)\n",
            "y_test Shape:  (84, 2)\n"
          ]
        }
      ]
    },
    {
      "cell_type": "code",
      "source": [
        "m1=Sequential()\n",
        "m1.add(BatchNormalization(input_shape = (28,28,3)))\n",
        "m1.add(Convolution2D(32, (3,3), activation ='relu', input_shape = (28, 28, 3))) \n",
        "m1.add(MaxPooling2D(pool_size=2))\n",
        "m1.add(Convolution2D(filters=64, kernel_size=4, padding='same', activation='relu'))\n",
        "m1.add(MaxPooling2D(pool_size=2))\n",
        "m1.add(Convolution2D(filters=128, kernel_size=3, padding='same', activation='relu'))\n",
        "m1.add(MaxPooling2D(pool_size=2))\n",
        "m1.add(Convolution2D(filters=128, kernel_size=2, padding='same', activation='relu'))\n",
        "m1.add(MaxPooling2D(pool_size=2))\n",
        "m1.add(Dropout(0.25))\n",
        "m1.add(Flatten()) \n",
        "m1.add(Dense(units=128,activation = 'relu'))\n",
        "m1.add(Dense(units = 64, activation = 'relu'))\n",
        "m1.add(Dense(units = 32, activation = 'relu'))\n",
        "m1.add(Dense(units = 2, activation = 'softmax'))"
      ],
      "metadata": {
        "id": "A-pY8p_YthN1"
      },
      "execution_count": null,
      "outputs": []
    },
    {
      "cell_type": "code",
      "source": [
        "m1.compile(optimizer='adam', loss = 'categorical_crossentropy',metrics = ['accuracy'])"
      ],
      "metadata": {
        "id": "yFgSZp8gtk_r"
      },
      "execution_count": null,
      "outputs": []
    },
    {
      "cell_type": "code",
      "source": [
        "history = m1.fit(X_train,y_train,epochs=50, validation_data=(X_test,y_test),verbose = 1,initial_epoch=0)"
      ],
      "metadata": {
        "colab": {
          "base_uri": "https://localhost:8080/"
        },
        "id": "nZrIm45Utvfu",
        "outputId": "b350bb61-0f3d-4daa-dc9a-bc257ea699a8"
      },
      "execution_count": null,
      "outputs": [
        {
          "output_type": "stream",
          "name": "stdout",
          "text": [
            "Epoch 1/50\n",
            "6/6 [==============================] - 13s 106ms/step - loss: 0.6685 - accuracy: 0.5680 - val_loss: 2.5726 - val_accuracy: 0.6071\n",
            "Epoch 2/50\n",
            "6/6 [==============================] - 0s 15ms/step - loss: 0.6402 - accuracy: 0.6746 - val_loss: 1.9180 - val_accuracy: 0.6071\n",
            "Epoch 3/50\n",
            "6/6 [==============================] - 0s 15ms/step - loss: 0.6447 - accuracy: 0.6627 - val_loss: 0.9221 - val_accuracy: 0.6071\n",
            "Epoch 4/50\n",
            "6/6 [==============================] - 0s 15ms/step - loss: 0.6470 - accuracy: 0.6154 - val_loss: 0.7274 - val_accuracy: 0.6071\n",
            "Epoch 5/50\n",
            "6/6 [==============================] - 0s 14ms/step - loss: 0.5638 - accuracy: 0.7633 - val_loss: 1.1735 - val_accuracy: 0.6071\n",
            "Epoch 6/50\n",
            "6/6 [==============================] - 0s 14ms/step - loss: 0.5732 - accuracy: 0.6923 - val_loss: 0.9978 - val_accuracy: 0.6190\n",
            "Epoch 7/50\n",
            "6/6 [==============================] - 0s 13ms/step - loss: 0.5408 - accuracy: 0.7633 - val_loss: 0.8570 - val_accuracy: 0.6190\n",
            "Epoch 8/50\n",
            "6/6 [==============================] - 0s 15ms/step - loss: 0.5036 - accuracy: 0.7515 - val_loss: 1.0633 - val_accuracy: 0.6190\n",
            "Epoch 9/50\n",
            "6/6 [==============================] - 0s 16ms/step - loss: 0.4927 - accuracy: 0.7633 - val_loss: 0.7861 - val_accuracy: 0.6310\n",
            "Epoch 10/50\n",
            "6/6 [==============================] - 0s 15ms/step - loss: 0.4145 - accuracy: 0.8343 - val_loss: 0.6413 - val_accuracy: 0.6905\n",
            "Epoch 11/50\n",
            "6/6 [==============================] - 0s 15ms/step - loss: 0.3912 - accuracy: 0.8521 - val_loss: 0.8495 - val_accuracy: 0.6905\n",
            "Epoch 12/50\n",
            "6/6 [==============================] - 0s 17ms/step - loss: 0.2920 - accuracy: 0.8817 - val_loss: 0.5439 - val_accuracy: 0.7381\n",
            "Epoch 13/50\n",
            "6/6 [==============================] - 0s 16ms/step - loss: 0.2115 - accuracy: 0.9112 - val_loss: 0.6137 - val_accuracy: 0.7500\n",
            "Epoch 14/50\n",
            "6/6 [==============================] - 0s 13ms/step - loss: 0.2980 - accuracy: 0.8698 - val_loss: 0.5783 - val_accuracy: 0.7500\n",
            "Epoch 15/50\n",
            "6/6 [==============================] - 0s 14ms/step - loss: 0.2140 - accuracy: 0.9231 - val_loss: 1.2704 - val_accuracy: 0.6429\n",
            "Epoch 16/50\n",
            "6/6 [==============================] - 0s 16ms/step - loss: 0.3068 - accuracy: 0.8935 - val_loss: 0.4791 - val_accuracy: 0.7857\n",
            "Epoch 17/50\n",
            "6/6 [==============================] - 0s 16ms/step - loss: 0.1783 - accuracy: 0.9408 - val_loss: 0.5114 - val_accuracy: 0.7262\n",
            "Epoch 18/50\n",
            "6/6 [==============================] - 0s 16ms/step - loss: 0.1661 - accuracy: 0.9349 - val_loss: 0.3727 - val_accuracy: 0.8571\n",
            "Epoch 19/50\n",
            "6/6 [==============================] - 0s 14ms/step - loss: 0.1057 - accuracy: 0.9645 - val_loss: 0.4456 - val_accuracy: 0.8452\n",
            "Epoch 20/50\n",
            "6/6 [==============================] - 0s 13ms/step - loss: 0.0656 - accuracy: 0.9822 - val_loss: 0.4723 - val_accuracy: 0.8452\n",
            "Epoch 21/50\n",
            "6/6 [==============================] - 0s 16ms/step - loss: 0.0449 - accuracy: 0.9822 - val_loss: 0.4942 - val_accuracy: 0.8571\n",
            "Epoch 22/50\n",
            "6/6 [==============================] - 0s 23ms/step - loss: 0.0538 - accuracy: 0.9763 - val_loss: 0.7376 - val_accuracy: 0.8214\n",
            "Epoch 23/50\n",
            "6/6 [==============================] - 0s 20ms/step - loss: 0.0345 - accuracy: 0.9882 - val_loss: 0.4416 - val_accuracy: 0.8929\n",
            "Epoch 24/50\n",
            "6/6 [==============================] - 0s 20ms/step - loss: 0.0209 - accuracy: 0.9941 - val_loss: 0.9321 - val_accuracy: 0.7857\n",
            "Epoch 25/50\n",
            "6/6 [==============================] - 0s 20ms/step - loss: 0.0746 - accuracy: 0.9763 - val_loss: 0.6319 - val_accuracy: 0.8095\n",
            "Epoch 26/50\n",
            "6/6 [==============================] - 0s 18ms/step - loss: 0.2742 - accuracy: 0.9172 - val_loss: 0.7314 - val_accuracy: 0.7619\n",
            "Epoch 27/50\n",
            "6/6 [==============================] - 0s 19ms/step - loss: 0.1864 - accuracy: 0.9467 - val_loss: 0.3931 - val_accuracy: 0.7857\n",
            "Epoch 28/50\n",
            "6/6 [==============================] - 0s 21ms/step - loss: 0.1030 - accuracy: 0.9704 - val_loss: 0.2484 - val_accuracy: 0.9048\n",
            "Epoch 29/50\n",
            "6/6 [==============================] - 0s 17ms/step - loss: 0.0666 - accuracy: 0.9822 - val_loss: 0.3318 - val_accuracy: 0.8571\n",
            "Epoch 30/50\n",
            "6/6 [==============================] - 0s 22ms/step - loss: 0.0194 - accuracy: 1.0000 - val_loss: 0.4653 - val_accuracy: 0.8333\n",
            "Epoch 31/50\n",
            "6/6 [==============================] - 0s 20ms/step - loss: 0.0104 - accuracy: 1.0000 - val_loss: 0.4491 - val_accuracy: 0.8690\n",
            "Epoch 32/50\n",
            "6/6 [==============================] - 0s 18ms/step - loss: 0.0128 - accuracy: 0.9941 - val_loss: 0.4782 - val_accuracy: 0.8571\n",
            "Epoch 33/50\n",
            "6/6 [==============================] - 0s 19ms/step - loss: 0.0078 - accuracy: 1.0000 - val_loss: 0.5010 - val_accuracy: 0.8690\n",
            "Epoch 34/50\n",
            "6/6 [==============================] - 0s 19ms/step - loss: 0.0090 - accuracy: 0.9941 - val_loss: 0.5050 - val_accuracy: 0.8571\n",
            "Epoch 35/50\n",
            "6/6 [==============================] - 0s 19ms/step - loss: 0.0067 - accuracy: 0.9941 - val_loss: 0.4951 - val_accuracy: 0.8690\n",
            "Epoch 36/50\n",
            "6/6 [==============================] - 0s 19ms/step - loss: 0.0082 - accuracy: 1.0000 - val_loss: 0.5090 - val_accuracy: 0.8690\n",
            "Epoch 37/50\n",
            "6/6 [==============================] - 0s 18ms/step - loss: 0.0196 - accuracy: 0.9882 - val_loss: 0.4836 - val_accuracy: 0.8452\n",
            "Epoch 38/50\n",
            "6/6 [==============================] - 0s 19ms/step - loss: 0.1003 - accuracy: 0.9763 - val_loss: 1.6283 - val_accuracy: 0.7262\n",
            "Epoch 39/50\n",
            "6/6 [==============================] - 0s 21ms/step - loss: 0.2636 - accuracy: 0.9112 - val_loss: 0.7265 - val_accuracy: 0.7738\n",
            "Epoch 40/50\n",
            "6/6 [==============================] - 0s 19ms/step - loss: 0.1244 - accuracy: 0.9704 - val_loss: 0.4395 - val_accuracy: 0.8452\n",
            "Epoch 41/50\n",
            "6/6 [==============================] - 0s 30ms/step - loss: 0.0436 - accuracy: 0.9882 - val_loss: 0.4119 - val_accuracy: 0.8333\n",
            "Epoch 42/50\n",
            "6/6 [==============================] - 0s 19ms/step - loss: 0.0253 - accuracy: 1.0000 - val_loss: 0.4929 - val_accuracy: 0.8333\n",
            "Epoch 43/50\n",
            "6/6 [==============================] - 0s 21ms/step - loss: 0.0291 - accuracy: 0.9941 - val_loss: 0.5226 - val_accuracy: 0.8452\n",
            "Epoch 44/50\n",
            "6/6 [==============================] - 0s 19ms/step - loss: 0.0225 - accuracy: 0.9882 - val_loss: 0.6842 - val_accuracy: 0.8333\n",
            "Epoch 45/50\n",
            "6/6 [==============================] - 0s 18ms/step - loss: 0.0207 - accuracy: 0.9941 - val_loss: 0.7924 - val_accuracy: 0.8095\n",
            "Epoch 46/50\n",
            "6/6 [==============================] - 0s 19ms/step - loss: 0.0206 - accuracy: 0.9941 - val_loss: 0.4915 - val_accuracy: 0.8810\n",
            "Epoch 47/50\n",
            "6/6 [==============================] - 0s 21ms/step - loss: 0.0295 - accuracy: 0.9882 - val_loss: 0.5506 - val_accuracy: 0.8690\n",
            "Epoch 48/50\n",
            "6/6 [==============================] - 0s 19ms/step - loss: 0.0042 - accuracy: 1.0000 - val_loss: 0.6253 - val_accuracy: 0.8452\n",
            "Epoch 49/50\n",
            "6/6 [==============================] - 0s 20ms/step - loss: 0.0044 - accuracy: 1.0000 - val_loss: 0.6109 - val_accuracy: 0.8452\n",
            "Epoch 50/50\n",
            "6/6 [==============================] - 0s 21ms/step - loss: 0.0028 - accuracy: 1.0000 - val_loss: 0.5727 - val_accuracy: 0.8690\n"
          ]
        }
      ]
    },
    {
      "cell_type": "code",
      "source": [
        "history = m1.fit(X_train,y_train,\n",
        "                    epochs=50, \n",
        "                    validation_data=(X_test,y_test),\n",
        "                    verbose = 1,\n",
        "                    initial_epoch=0)"
      ],
      "metadata": {
        "colab": {
          "base_uri": "https://localhost:8080/"
        },
        "id": "JYOgeOkuuADC",
        "outputId": "533d6b0a-54c0-4d47-d022-9e98231f3dd5"
      },
      "execution_count": null,
      "outputs": [
        {
          "output_type": "stream",
          "name": "stdout",
          "text": [
            "Epoch 1/50\n",
            "6/6 [==============================] - 0s 21ms/step - loss: 0.0018 - accuracy: 1.0000 - val_loss: 0.5670 - val_accuracy: 0.8690\n",
            "Epoch 2/50\n",
            "6/6 [==============================] - 0s 17ms/step - loss: 0.0013 - accuracy: 1.0000 - val_loss: 0.5849 - val_accuracy: 0.8690\n",
            "Epoch 3/50\n",
            "6/6 [==============================] - 0s 14ms/step - loss: 0.0072 - accuracy: 0.9941 - val_loss: 0.8216 - val_accuracy: 0.8214\n",
            "Epoch 4/50\n",
            "6/6 [==============================] - 0s 13ms/step - loss: 0.0072 - accuracy: 1.0000 - val_loss: 0.7596 - val_accuracy: 0.8452\n",
            "Epoch 5/50\n",
            "6/6 [==============================] - 0s 21ms/step - loss: 0.0013 - accuracy: 1.0000 - val_loss: 0.6594 - val_accuracy: 0.8690\n",
            "Epoch 6/50\n",
            "6/6 [==============================] - 0s 21ms/step - loss: 9.9463e-04 - accuracy: 1.0000 - val_loss: 0.6202 - val_accuracy: 0.8690\n",
            "Epoch 7/50\n",
            "6/6 [==============================] - 0s 24ms/step - loss: 0.0011 - accuracy: 1.0000 - val_loss: 0.6208 - val_accuracy: 0.8571\n",
            "Epoch 8/50\n",
            "6/6 [==============================] - 0s 21ms/step - loss: 0.0012 - accuracy: 1.0000 - val_loss: 0.6352 - val_accuracy: 0.8690\n",
            "Epoch 9/50\n",
            "6/6 [==============================] - 0s 18ms/step - loss: 0.0014 - accuracy: 1.0000 - val_loss: 0.6652 - val_accuracy: 0.8690\n",
            "Epoch 10/50\n",
            "6/6 [==============================] - 0s 21ms/step - loss: 5.8071e-04 - accuracy: 1.0000 - val_loss: 0.6913 - val_accuracy: 0.8690\n",
            "Epoch 11/50\n",
            "6/6 [==============================] - 0s 21ms/step - loss: 7.6957e-04 - accuracy: 1.0000 - val_loss: 0.7018 - val_accuracy: 0.8690\n",
            "Epoch 12/50\n",
            "6/6 [==============================] - 0s 20ms/step - loss: 0.0013 - accuracy: 1.0000 - val_loss: 0.6820 - val_accuracy: 0.8690\n",
            "Epoch 13/50\n",
            "6/6 [==============================] - 0s 19ms/step - loss: 3.7729e-04 - accuracy: 1.0000 - val_loss: 0.6660 - val_accuracy: 0.8810\n",
            "Epoch 14/50\n",
            "6/6 [==============================] - 0s 19ms/step - loss: 7.4058e-04 - accuracy: 1.0000 - val_loss: 0.6671 - val_accuracy: 0.8810\n",
            "Epoch 15/50\n",
            "6/6 [==============================] - 0s 17ms/step - loss: 3.6088e-04 - accuracy: 1.0000 - val_loss: 0.6755 - val_accuracy: 0.8810\n",
            "Epoch 16/50\n",
            "6/6 [==============================] - 0s 19ms/step - loss: 3.7205e-04 - accuracy: 1.0000 - val_loss: 0.6822 - val_accuracy: 0.8690\n",
            "Epoch 17/50\n",
            "6/6 [==============================] - 0s 27ms/step - loss: 3.4638e-04 - accuracy: 1.0000 - val_loss: 0.6953 - val_accuracy: 0.8690\n",
            "Epoch 18/50\n",
            "6/6 [==============================] - 0s 23ms/step - loss: 2.9375e-04 - accuracy: 1.0000 - val_loss: 0.7079 - val_accuracy: 0.8690\n",
            "Epoch 19/50\n",
            "6/6 [==============================] - 0s 19ms/step - loss: 1.7105e-04 - accuracy: 1.0000 - val_loss: 0.7182 - val_accuracy: 0.8690\n",
            "Epoch 20/50\n",
            "6/6 [==============================] - 0s 18ms/step - loss: 4.2183e-04 - accuracy: 1.0000 - val_loss: 0.7229 - val_accuracy: 0.8690\n",
            "Epoch 21/50\n",
            "6/6 [==============================] - 0s 19ms/step - loss: 3.2131e-04 - accuracy: 1.0000 - val_loss: 0.7202 - val_accuracy: 0.8690\n",
            "Epoch 22/50\n",
            "6/6 [==============================] - 0s 20ms/step - loss: 2.0671e-04 - accuracy: 1.0000 - val_loss: 0.7165 - val_accuracy: 0.8690\n",
            "Epoch 23/50\n",
            "6/6 [==============================] - 0s 20ms/step - loss: 3.4306e-04 - accuracy: 1.0000 - val_loss: 0.7091 - val_accuracy: 0.8690\n",
            "Epoch 24/50\n",
            "6/6 [==============================] - 0s 19ms/step - loss: 0.0051 - accuracy: 0.9941 - val_loss: 0.9169 - val_accuracy: 0.8571\n",
            "Epoch 25/50\n",
            "6/6 [==============================] - 0s 17ms/step - loss: 0.0432 - accuracy: 0.9941 - val_loss: 0.9111 - val_accuracy: 0.8214\n",
            "Epoch 26/50\n",
            "6/6 [==============================] - 0s 17ms/step - loss: 0.0243 - accuracy: 0.9822 - val_loss: 0.5988 - val_accuracy: 0.8333\n",
            "Epoch 27/50\n",
            "6/6 [==============================] - 0s 19ms/step - loss: 0.0334 - accuracy: 0.9763 - val_loss: 0.6131 - val_accuracy: 0.8214\n",
            "Epoch 28/50\n",
            "6/6 [==============================] - 0s 18ms/step - loss: 0.0275 - accuracy: 0.9941 - val_loss: 0.5147 - val_accuracy: 0.8690\n",
            "Epoch 29/50\n",
            "6/6 [==============================] - 0s 18ms/step - loss: 0.0048 - accuracy: 1.0000 - val_loss: 0.5436 - val_accuracy: 0.8214\n",
            "Epoch 30/50\n",
            "6/6 [==============================] - 0s 20ms/step - loss: 0.0260 - accuracy: 0.9941 - val_loss: 0.5853 - val_accuracy: 0.8333\n",
            "Epoch 31/50\n",
            "6/6 [==============================] - 0s 21ms/step - loss: 0.0117 - accuracy: 0.9941 - val_loss: 0.5428 - val_accuracy: 0.8333\n",
            "Epoch 32/50\n",
            "6/6 [==============================] - 0s 19ms/step - loss: 0.0032 - accuracy: 1.0000 - val_loss: 0.5678 - val_accuracy: 0.8571\n",
            "Epoch 33/50\n",
            "6/6 [==============================] - 0s 27ms/step - loss: 0.0053 - accuracy: 1.0000 - val_loss: 0.6833 - val_accuracy: 0.8810\n",
            "Epoch 34/50\n",
            "6/6 [==============================] - 0s 19ms/step - loss: 0.0463 - accuracy: 0.9822 - val_loss: 0.6413 - val_accuracy: 0.8214\n",
            "Epoch 35/50\n",
            "6/6 [==============================] - 0s 19ms/step - loss: 0.0175 - accuracy: 0.9941 - val_loss: 0.5532 - val_accuracy: 0.8214\n",
            "Epoch 36/50\n",
            "6/6 [==============================] - 0s 20ms/step - loss: 0.0096 - accuracy: 1.0000 - val_loss: 0.5237 - val_accuracy: 0.8571\n",
            "Epoch 37/50\n",
            "6/6 [==============================] - 0s 20ms/step - loss: 0.0328 - accuracy: 0.9941 - val_loss: 0.5271 - val_accuracy: 0.8571\n",
            "Epoch 38/50\n",
            "6/6 [==============================] - 0s 13ms/step - loss: 0.0038 - accuracy: 1.0000 - val_loss: 0.5556 - val_accuracy: 0.8452\n",
            "Epoch 39/50\n",
            "6/6 [==============================] - 0s 15ms/step - loss: 0.0022 - accuracy: 1.0000 - val_loss: 0.5963 - val_accuracy: 0.8333\n",
            "Epoch 40/50\n",
            "6/6 [==============================] - 0s 15ms/step - loss: 8.5952e-04 - accuracy: 1.0000 - val_loss: 0.6430 - val_accuracy: 0.8690\n",
            "Epoch 41/50\n",
            "6/6 [==============================] - 0s 13ms/step - loss: 7.5013e-04 - accuracy: 1.0000 - val_loss: 0.6680 - val_accuracy: 0.8690\n",
            "Epoch 42/50\n",
            "6/6 [==============================] - 0s 16ms/step - loss: 6.5630e-04 - accuracy: 1.0000 - val_loss: 0.7066 - val_accuracy: 0.8571\n",
            "Epoch 43/50\n",
            "6/6 [==============================] - 0s 15ms/step - loss: 2.1891e-04 - accuracy: 1.0000 - val_loss: 0.7477 - val_accuracy: 0.8810\n",
            "Epoch 44/50\n",
            "6/6 [==============================] - 0s 13ms/step - loss: 6.2248e-04 - accuracy: 1.0000 - val_loss: 0.7728 - val_accuracy: 0.8690\n",
            "Epoch 45/50\n",
            "6/6 [==============================] - 0s 14ms/step - loss: 1.2222e-04 - accuracy: 1.0000 - val_loss: 0.7926 - val_accuracy: 0.8571\n",
            "Epoch 46/50\n",
            "6/6 [==============================] - 0s 14ms/step - loss: 0.0047 - accuracy: 0.9941 - val_loss: 0.8417 - val_accuracy: 0.8690\n",
            "Epoch 47/50\n",
            "6/6 [==============================] - 0s 13ms/step - loss: 0.0042 - accuracy: 1.0000 - val_loss: 0.7771 - val_accuracy: 0.8690\n",
            "Epoch 48/50\n",
            "6/6 [==============================] - 0s 19ms/step - loss: 9.9175e-04 - accuracy: 1.0000 - val_loss: 0.7331 - val_accuracy: 0.8571\n",
            "Epoch 49/50\n",
            "6/6 [==============================] - 0s 16ms/step - loss: 3.4239e-04 - accuracy: 1.0000 - val_loss: 0.7157 - val_accuracy: 0.8571\n",
            "Epoch 50/50\n",
            "6/6 [==============================] - 0s 15ms/step - loss: 6.4614e-04 - accuracy: 1.0000 - val_loss: 0.7029 - val_accuracy: 0.8452\n"
          ]
        }
      ]
    },
    {
      "cell_type": "code",
      "source": [
        "m1.evaluate(X_test,y_test)\n",
        "plt.plot(history.history['val_accuracy'])\n",
        "plt.title('model accuracy')\n",
        "plt.ylabel('accuracy')\n",
        "plt.xlabel('epoch')\n",
        "plt.legend(['train', 'validation'], loc='upper left')\n",
        "plt.show()"
      ],
      "metadata": {
        "colab": {
          "base_uri": "https://localhost:8080/",
          "height": 312
        },
        "id": "hl7sNvYnuFVK",
        "outputId": "6e64edab-0d50-4719-a93d-1a223a666d4b"
      },
      "execution_count": null,
      "outputs": [
        {
          "output_type": "stream",
          "name": "stdout",
          "text": [
            "3/3 [==============================] - 0s 5ms/step - loss: 0.7029 - accuracy: 0.8452\n"
          ]
        },
        {
          "output_type": "display_data",
          "data": {
            "text/plain": [
              "<Figure size 432x288 with 1 Axes>"
            ],
            "image/png": "[encoded data removed]"
          },
          "metadata": {
            "needs_background": "light"
          }
        }
      ]
    },
    {
      "cell_type": "code",
      "source": [
        "plt.plot(history.history['accuracy'])"
      ],
      "metadata": {
        "colab": {
          "base_uri": "https://localhost:8080/",
          "height": 282
        },
        "id": "pXtBCtdmuQWo",
        "outputId": "5fc0227b-ec1e-4855-919a-37cd2c0ff5e3"
      },
      "execution_count": null,
      "outputs": [
        {
          "output_type": "execute_result",
          "data": {
            "text/plain": [
              "[<matplotlib.lines.Line2D at 0x7f1db01acc40>]"
            ]
          },
          "metadata": {},
          "execution_count": 16
        },
        {
          "output_type": "display_data",
          "data": {
            "text/plain": [
              "<Figure size 432x288 with 1 Axes>"
            ],
            "image/png": "[encoded data removed]"
          },
          "metadata": {
            "needs_background": "light"
          }
        }
      ]
    },
    {
      "cell_type": "code",
      "source": [
        "plt.plot(history.history['loss'])\n",
        "plt.plot(history.history['val_loss'])\n",
        "plt.title('model loss')\n",
        "plt.ylabel('loss')\n",
        "plt.xlabel('epoch')\n",
        "plt.legend(['train', 'validation'], loc='upper left')\n",
        "plt.show()"
      ],
      "metadata": {
        "colab": {
          "base_uri": "https://localhost:8080/",
          "height": 295
        },
        "id": "g9k08y0JuZRR",
        "outputId": "51ad4006-e20a-4070-9290-e8875b4a9c23"
      },
      "execution_count": null,
      "outputs": [
        {
          "output_type": "display_data",
          "data": {
            "text/plain": [
              "<Figure size 432x288 with 1 Axes>"
            ],
            "image/png": "[encoded data removed]"
          },
          "metadata": {
            "needs_background": "light"
          }
        }
      ]
    },
    {
      "cell_type": "code",
      "source": [
        "y_predicted = np.argmax(m1.predict(X_test), axis=-1)\n",
        "y_actual=np.argmax(y_test,axis=1)\n",
        "L = 2\n",
        "W = 2\n",
        "fig, axes = plt.subplots(L, W, figsize = (12,12))\n",
        "axes = axes.ravel()\n",
        "for i in np.arange(0, L * W):  \n",
        "    axes[i].imshow(X_test[i])\n",
        "    axes[i].set_title(f\"Prediction Class = {y_predicted[i]:0.1f}\\n Actual Label = {y_actual[i]:0.1f}\")\n",
        "    axes[i].axis('off')\n",
        "plt.subplots_adjust(wspace=0.5)"
      ],
      "metadata": {
        "colab": {
          "base_uri": "https://localhost:8080/",
          "height": 703
        },
        "id": "vUVOYPCMugJx",
        "outputId": "6701e67d-39d0-484f-e4ee-27f29eab3234"
      },
      "execution_count": null,
      "outputs": [
        {
          "output_type": "stream",
          "name": "stdout",
          "text": [
            "3/3 [==============================] - 0s 4ms/step\n"
          ]
        },
        {
          "output_type": "display_data",
          "data": {
            "text/plain": [
              "<Figure size 864x864 with 4 Axes>"
            ],
            "image/png": "[encoded data removed]"
          },
          "metadata": {
            "needs_background": "light"
          }
        }
      ]
    },
    {
      "cell_type": "code",
      "source": [
        "from sklearn.metrics import classification_report\n",
        "print(classification_report(y_actual, y_predicted))"
      ],
      "metadata": {
        "colab": {
          "base_uri": "https://localhost:8080/"
        },
        "id": "XpnTVqMBvY82",
        "outputId": "a2d08cb0-dac5-4e85-c1fa-06b3fe70c478"
      },
      "execution_count": null,
      "outputs": [
        {
          "output_type": "stream",
          "name": "stdout",
          "text": [
            "              precision    recall  f1-score   support\n",
            "\n",
            "           0       0.81      0.79      0.80        33\n",
            "           1       0.87      0.88      0.87        51\n",
            "\n",
            "    accuracy                           0.85        84\n",
            "   macro avg       0.84      0.84      0.84        84\n",
            "weighted avg       0.84      0.85      0.84        84\n",
            "\n"
          ]
        }
      ]
    }
  ]
}